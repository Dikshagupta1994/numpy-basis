{
 "cells": [
  {
   "cell_type": "markdown",
   "id": "b862e1e5",
   "metadata": {
    "id": "b862e1e5"
   },
   "source": [
    "- Stands for Numerical Python and is the Core library for numerical computations\n",
    "- Provides functionalities to make multi-dimensional arrays (1D, 2D, 3D or nD arrays)\n",
    "\n",
    "\n",
    "- We have lists that we can use to create multi-dimensional lists instead of using arrays to perform these tasks, so why do we need Numpy?\n",
    "\n",
    "\n",
    "- The advantages of using Numpy is Memory efficient, Faster, lot of convenience and functionalties.\n",
    "- Numpy is built on C language which makes it so much faster."
   ]
  },
  {
   "cell_type": "markdown",
   "id": "2a2f1842",
   "metadata": {
    "id": "2a2f1842"
   },
   "source": [
    "Numpy contains `integers` and `floating point objects` and also some `containers like Lists and Dictionaries` built-in for faster mathematical calculations"
   ]
  },
  {
   "cell_type": "markdown",
   "id": "2d5ec654",
   "metadata": {
    "id": "2d5ec654"
   },
   "source": [
    "# Numpy"
   ]
  },
  {
   "cell_type": "markdown",
   "id": "7a9fc4d4",
   "metadata": {
    "id": "7a9fc4d4"
   },
   "source": [
    "\n",
    "<div>\n",
    "<img src=\"attachment:Nd%20Arrays.png\" width=\"500\"/>\n",
    "</div>"
   ]
  },
  {
   "cell_type": "markdown",
   "id": "9eadaf3b",
   "metadata": {
    "id": "9eadaf3b"
   },
   "source": [
    "In NumPy, dimensions are called **axes**. In the 2-d array above, there are two axes, having two and three elements respectively. \n",
    "\n",
    "In NumPy terminology, for 2-D arrays:\n",
    "* ```axis = 0``` refers to the axis running vertically downwards across rows\n",
    "* ```axis = 1``` refers to the axis running horizontally across columns\n",
    "\n",
    "<img src=\"numpy_axes.jpg\" style=\"width: 600px; height: 400px\">"
   ]
  },
  {
   "cell_type": "markdown",
   "id": "611c0e06",
   "metadata": {
    "id": "611c0e06"
   },
   "source": [
    "## Import Numpy Package"
   ]
  },
  {
   "cell_type": "code",
   "execution_count": null,
   "id": "84dc069d",
   "metadata": {
    "id": "84dc069d"
   },
   "outputs": [],
   "source": [
    "import numpy as np"
   ]
  },
  {
   "cell_type": "markdown",
   "id": "2104a152",
   "metadata": {
    "id": "2104a152"
   },
   "source": [
    "### Memory comparisons of Lists and Numpy Arrays"
   ]
  },
  {
   "cell_type": "code",
   "execution_count": null,
   "id": "86898bf2",
   "metadata": {
    "id": "86898bf2",
    "outputId": "371141c8-2d12-42cc-c652-80c785c416ac"
   },
   "outputs": [
    {
     "name": "stdout",
     "output_type": "stream",
     "text": [
      "[0, 1, 2, 3, 4, 5, 6, 7, 8, 9, 10, 11, 12, 13, 14, 15, 16, 17, 18, 19, 20, 21, 22, 23, 24, 25, 26, 27, 28, 29, 30, 31, 32, 33, 34, 35, 36, 37, 38, 39, 40, 41, 42, 43, 44, 45, 46, 47, 48, 49, 50, 51, 52, 53, 54, 55, 56, 57, 58, 59, 60, 61, 62, 63, 64, 65, 66, 67, 68, 69, 70, 71, 72, 73, 74, 75, 76, 77, 78, 79, 80, 81, 82, 83, 84, 85, 86, 87, 88, 89, 90, 91, 92, 93, 94, 95, 96, 97, 98, 99]\n",
      "[ 0  1  2  3  4  5  6  7  8  9 10 11 12 13 14 15 16 17 18 19 20 21 22 23\n",
      " 24 25 26 27 28 29 30 31 32 33 34 35 36 37 38 39 40 41 42 43 44 45 46 47\n",
      " 48 49 50 51 52 53 54 55 56 57 58 59 60 61 62 63 64 65 66 67 68 69 70 71\n",
      " 72 73 74 75 76 77 78 79 80 81 82 83 84 85 86 87 88 89 90 91 92 93 94 95\n",
      " 96 97 98 99]\n"
     ]
    }
   ],
   "source": [
    "li_arr = [i for i in range(100)]\n",
    "np_arr = np.arange(100)\n",
    "\n",
    "print(li_arr)\n",
    "print(np_arr)"
   ]
  },
  {
   "cell_type": "code",
   "execution_count": null,
   "id": "a4952276",
   "metadata": {
    "id": "a4952276",
    "outputId": "be8dc269-8753-4646-97ca-68ed80b0a557"
   },
   "outputs": [
    {
     "name": "stdout",
     "output_type": "stream",
     "text": [
      "28\n",
      "104\n"
     ]
    }
   ],
   "source": [
    "import sys\n",
    "\n",
    "var1 = 10\n",
    "print(sys.getsizeof(var1))  # Checking the size of one Python Variable\n",
    "\n",
    "list1 = [10,20,30,40,50,60]\n",
    "print(sys.getsizeof(list1)) # Checking the size of a list with some elements"
   ]
  },
  {
   "cell_type": "code",
   "execution_count": null,
   "id": "e3f1097f",
   "metadata": {
    "id": "e3f1097f",
    "outputId": "6cfcb8d1-16fd-4db8-d362-1c6144962e20"
   },
   "outputs": [
    {
     "name": "stdout",
     "output_type": "stream",
     "text": [
      "Size of li_arr: 904bytes\n",
      "904\n"
     ]
    }
   ],
   "source": [
    "# Checking the memory that a list with 100 element occupies\n",
    "\n",
    "import sys\n",
    "print(\"Size of li_arr: \" + str(sys.getsizeof(li_arr)) + \"bytes\")\n",
    "print(sys.getsizeof(li_arr))"
   ]
  },
  {
   "cell_type": "code",
   "execution_count": null,
   "id": "2fb625ee",
   "metadata": {
    "id": "2fb625ee",
    "outputId": "2b98df18-b041-4396-a6ff-515c54f5da92"
   },
   "outputs": [
    {
     "name": "stdout",
     "output_type": "stream",
     "text": [
      "4\n",
      "100\n",
      "400\n"
     ]
    }
   ],
   "source": [
    "# Checking the memory occupied by a numpy array containing 100 elements\n",
    "\n",
    "print(np_arr.itemsize)\n",
    "print(np_arr.size)\n",
    "print(np_arr.itemsize * np_arr.size)"
   ]
  },
  {
   "cell_type": "markdown",
   "id": "6b5c0007",
   "metadata": {
    "id": "6b5c0007"
   },
   "source": [
    "Now let's check for large values to see the real difference"
   ]
  },
  {
   "cell_type": "code",
   "execution_count": null,
   "id": "8bc7eed6",
   "metadata": {
    "id": "8bc7eed6",
    "outputId": "e410505c-7670-4fa2-9df1-edc23c987509"
   },
   "outputs": [
    {
     "name": "stdout",
     "output_type": "stream",
     "text": [
      "87616\n",
      "40000\n"
     ]
    }
   ],
   "source": [
    "li_arr1 = [i for i in range(10000)]\n",
    "np_arr1 = np.arange(10000)\n",
    "\n",
    "print(sys.getsizeof(li_arr1))\n",
    "print(np_arr1.itemsize * np_arr1.size)"
   ]
  },
  {
   "cell_type": "markdown",
   "id": "aa525da5",
   "metadata": {
    "id": "aa525da5"
   },
   "source": [
    "### Let's see how fast a numpy array is, compared to a list"
   ]
  },
  {
   "cell_type": "code",
   "execution_count": null,
   "id": "d4a61cb8",
   "metadata": {
    "id": "d4a61cb8",
    "outputId": "72f4363c-63cb-4cd3-d2d6-20bc32f689a8"
   },
   "outputs": [
    {
     "name": "stdout",
     "output_type": "stream",
     "text": [
      "354 µs ± 21 µs per loop (mean ± std. dev. of 7 runs, 1000 loops each)\n"
     ]
    }
   ],
   "source": [
    "#python lists\n",
    "L = range(1000) #0 - 999\n",
    "%timeit [i**2 for i in L]"
   ]
  },
  {
   "cell_type": "code",
   "execution_count": null,
   "id": "669a6a10",
   "metadata": {
    "id": "669a6a10",
    "outputId": "5ee4d42c-f3ad-4886-e25b-5b82c57b5192"
   },
   "outputs": [
    {
     "name": "stdout",
     "output_type": "stream",
     "text": [
      "2.26 µs ± 102 ns per loop (mean ± std. dev. of 7 runs, 100000 loops each)\n"
     ]
    }
   ],
   "source": [
    "a = np.arange(1000)\n",
    "%timeit a**2"
   ]
  },
  {
   "cell_type": "markdown",
   "id": "e17e4feb",
   "metadata": {
    "id": "e17e4feb"
   },
   "source": [
    "## 1. Creating Numpy Arrays"
   ]
  },
  {
   "cell_type": "markdown",
   "id": "f696b295",
   "metadata": {
    "id": "f696b295"
   },
   "source": [
    "There are multiple ways to create numpy arrays, the most commmon ones being:\n",
    "* Convert lists or tuples to arrays using ```np.array()```, as done above\n",
    "* Initialise arrays of fixed size (when the size is known) "
   ]
  },
  {
   "cell_type": "code",
   "execution_count": null,
   "id": "f9b699e2",
   "metadata": {
    "id": "f9b699e2"
   },
   "outputs": [],
   "source": [
    "import numpy as np"
   ]
  },
  {
   "cell_type": "markdown",
   "id": "4d7ca36e",
   "metadata": {
    "id": "4d7ca36e"
   },
   "source": [
    "### <font color='maroon'>1.1 Manually creating numpy arrays</font>"
   ]
  },
  {
   "cell_type": "code",
   "execution_count": null,
   "id": "67da8f1d",
   "metadata": {
    "id": "67da8f1d"
   },
   "outputs": [],
   "source": [
    "#Creating an array from a list\n",
    "lst = [1,2,3,4]\n",
    "arr_list = np.array(lst)"
   ]
  },
  {
   "cell_type": "code",
   "execution_count": null,
   "id": "ca463082",
   "metadata": {
    "id": "ca463082"
   },
   "outputs": [],
   "source": [
    "lst1 = [10,20,30,40]\n",
    "arr_list = np.array(lst1)"
   ]
  },
  {
   "cell_type": "code",
   "execution_count": null,
   "id": "1eee5f99",
   "metadata": {
    "id": "1eee5f99",
    "outputId": "8667e49c-d778-474c-ba17-ca021a12f219"
   },
   "outputs": [
    {
     "data": {
      "text/plain": [
       "array([10, 20, 30, 40])"
      ]
     },
     "execution_count": 12,
     "metadata": {},
     "output_type": "execute_result"
    }
   ],
   "source": [
    "arr_list"
   ]
  },
  {
   "cell_type": "code",
   "execution_count": null,
   "id": "57b9d28d",
   "metadata": {
    "id": "57b9d28d",
    "outputId": "7c7859d1-f09c-4262-94e8-304fbdb497b4"
   },
   "outputs": [
    {
     "data": {
      "text/plain": [
       "array([11, 22, 33, 44])"
      ]
     },
     "execution_count": 13,
     "metadata": {},
     "output_type": "execute_result"
    }
   ],
   "source": [
    "arr_list2 = np.array([11,22,33,44])\n",
    "arr_list2"
   ]
  },
  {
   "cell_type": "code",
   "execution_count": null,
   "id": "d7ebb687",
   "metadata": {
    "id": "d7ebb687",
    "outputId": "812ba9d3-95a1-4ff5-cbc3-7f9203f88c29"
   },
   "outputs": [
    {
     "data": {
      "text/plain": [
       "array([1, 2, 3, 4])"
      ]
     },
     "execution_count": 14,
     "metadata": {},
     "output_type": "execute_result"
    }
   ],
   "source": [
    "# Creating an array from a Tuple\n",
    "tup = (1,2,3,4)\n",
    "np.array(tup)"
   ]
  },
  {
   "cell_type": "code",
   "execution_count": null,
   "id": "2e8a2be4",
   "metadata": {
    "id": "2e8a2be4",
    "outputId": "37ff185e-8ba6-44d5-9140-c5af5342cf26"
   },
   "outputs": [
    {
     "data": {
      "text/plain": [
       "array([1, 2, 3, 4])"
      ]
     },
     "execution_count": 16,
     "metadata": {},
     "output_type": "execute_result"
    }
   ],
   "source": [
    "# Pass tuple directly to create a numpy array\n",
    "arr_tup = np.array((1,2,3,4))\n",
    "arr_tup"
   ]
  },
  {
   "cell_type": "code",
   "execution_count": null,
   "id": "7bf40da6",
   "metadata": {
    "id": "7bf40da6",
    "outputId": "f6002e1e-a207-43a4-90ec-8b1f76830993"
   },
   "outputs": [
    {
     "data": {
      "text/plain": [
       "1"
      ]
     },
     "execution_count": 17,
     "metadata": {},
     "output_type": "execute_result"
    }
   ],
   "source": [
    "#Print Dimension of array 'arr_list'\n",
    "\n",
    "arr_list.ndim"
   ]
  },
  {
   "cell_type": "code",
   "execution_count": null,
   "id": "47570aa5",
   "metadata": {
    "id": "47570aa5",
    "outputId": "a080fd47-6967-49b6-cbde-a42302005549"
   },
   "outputs": [
    {
     "data": {
      "text/plain": [
       "(4,)"
      ]
     },
     "execution_count": 18,
     "metadata": {},
     "output_type": "execute_result"
    }
   ],
   "source": [
    "# Print Shape of array 'arr_list'\n",
    "\n",
    "arr_list.shape"
   ]
  },
  {
   "cell_type": "markdown",
   "id": "586f7418",
   "metadata": {
    "id": "586f7418"
   },
   "source": [
    "**<font color='blue'>Creating a 2-D Array</font>**"
   ]
  },
  {
   "cell_type": "code",
   "execution_count": null,
   "id": "15ea1a67",
   "metadata": {
    "id": "15ea1a67",
    "outputId": "a9389e1f-4301-4601-d514-2b9caa4e2422"
   },
   "outputs": [
    {
     "data": {
      "text/plain": [
       "array([[1, 2, 3, 4],\n",
       "       [4, 5, 6, 7]])"
      ]
     },
     "execution_count": 19,
     "metadata": {},
     "output_type": "execute_result"
    }
   ],
   "source": [
    "# Creating a 2-D Array\n",
    "#[[],[]]\n",
    "\n",
    "arr_2d = np.array([[1,2,3,4], [4,5,6,7]]) # Lists within a List\n",
    "arr_2d"
   ]
  },
  {
   "cell_type": "code",
   "execution_count": null,
   "id": "95e10eb9",
   "metadata": {
    "id": "95e10eb9",
    "outputId": "10063e72-c4d5-46e8-b894-e09591b1e3c0"
   },
   "outputs": [
    {
     "name": "stdout",
     "output_type": "stream",
     "text": [
      "[[1 2 3 4]\n",
      " [5 6 7 8]]\n"
     ]
    }
   ],
   "source": [
    "arr2 = np.array([[1,2,3,4], [5,6,7,8]])  # list within a list\n",
    "print(arr2)"
   ]
  },
  {
   "cell_type": "code",
   "execution_count": null,
   "id": "83dd55d8",
   "metadata": {
    "id": "83dd55d8",
    "outputId": "302c8056-116d-4ef0-e2a0-343117ba671c"
   },
   "outputs": [
    {
     "name": "stdout",
     "output_type": "stream",
     "text": [
      "2\n"
     ]
    }
   ],
   "source": [
    "print(arr_2d.ndim)"
   ]
  },
  {
   "cell_type": "code",
   "execution_count": null,
   "id": "d5306732",
   "metadata": {
    "id": "d5306732",
    "outputId": "79db1f4d-d31f-43e8-f0c1-25ffb3a1183a"
   },
   "outputs": [
    {
     "name": "stdout",
     "output_type": "stream",
     "text": [
      "(2, 4)\n"
     ]
    }
   ],
   "source": [
    "print(arr_2d.shape) # (rows,columns)"
   ]
  },
  {
   "cell_type": "markdown",
   "id": "fae3216e",
   "metadata": {
    "id": "fae3216e"
   },
   "source": [
    "**<font color='darkblue'> 1D Array is called Vector, 2D Array is called Matrix, nD Array is called Tensor </font>**"
   ]
  },
  {
   "cell_type": "markdown",
   "id": "c73acf40",
   "metadata": {
    "id": "c73acf40"
   },
   "source": [
    "### <font color='maroon'>1.2  Creating arrays using functions</font>"
   ]
  },
  {
   "cell_type": "markdown",
   "id": "5337f276",
   "metadata": {
    "id": "5337f276"
   },
   "source": [
    "The other common way is to initialise arrays using built-in functions. \n",
    "\n",
    "The following ways are commonly used:\n",
    "* ```np.ones()```: Create array of 1s\n",
    "* ```np.zeros()```: Create array of 0s\n",
    "* ```np.random.random()```: Create array of random numbers\n",
    "* ```np.arange()```: Create array with increments of a fixed step size\n",
    "* ```np.linspace()```: Create array of fixed length\n",
    "* ```np.diag()```: Constructs a diagonal array"
   ]
  },
  {
   "cell_type": "code",
   "execution_count": null,
   "id": "1c1d38eb",
   "metadata": {
    "id": "1c1d38eb"
   },
   "outputs": [],
   "source": [
    "#using arange function\n",
    "# arange is an array-valued version of the built-in Python range function\n",
    "\n",
    "arr1 = np.arange(15) # 0.... n-1\n",
    "arr1"
   ]
  },
  {
   "cell_type": "code",
   "execution_count": null,
   "id": "6f750508",
   "metadata": {
    "id": "6f750508",
    "outputId": "c3abf460-99f3-46df-a8f8-f8f7e05635b2"
   },
   "outputs": [
    {
     "data": {
      "text/plain": [
       "array([ 5, 10, 15, 20, 25, 30, 35, 40, 45])"
      ]
     },
     "execution_count": 30,
     "metadata": {},
     "output_type": "execute_result"
    }
   ],
   "source": [
    "arr1 = np.arange(5,50,5)\n",
    "arr1"
   ]
  },
  {
   "cell_type": "code",
   "execution_count": null,
   "id": "2bb7df0c",
   "metadata": {
    "id": "2bb7df0c"
   },
   "outputs": [],
   "source": [
    "arr_step = np.arange(10,20) #start, end (exclusive), step\n",
    "arr_step"
   ]
  },
  {
   "cell_type": "code",
   "execution_count": null,
   "id": "e2e543a0",
   "metadata": {
    "id": "e2e543a0"
   },
   "outputs": [],
   "source": [
    "# Create an array of linearly spaced out values in the given range\n",
    "\n",
    "arr_lin = np.linspace(0,50,9) #start, end, number of points\n",
    "arr_lin"
   ]
  },
  {
   "cell_type": "code",
   "execution_count": null,
   "id": "81624097",
   "metadata": {
    "id": "81624097",
    "outputId": "fd897bef-4977-4241-db9f-f4b8a6e8d3f9"
   },
   "outputs": [
    {
     "data": {
      "text/plain": [
       "array([  1.,  12.,  23.,  34.,  45.,  56.,  67.,  78.,  89., 100.])"
      ]
     },
     "execution_count": 37,
     "metadata": {},
     "output_type": "execute_result"
    }
   ],
   "source": [
    "arr3 = np.linspace(1,100,10)\n",
    "arr3"
   ]
  },
  {
   "cell_type": "code",
   "execution_count": null,
   "id": "6d0ab357",
   "metadata": {
    "id": "6d0ab357"
   },
   "outputs": [],
   "source": [
    "arr_ones = np.ones((5,4))\n",
    "arr_ones"
   ]
  },
  {
   "cell_type": "code",
   "execution_count": null,
   "id": "e02eef2f",
   "metadata": {
    "id": "e02eef2f",
    "outputId": "1bf050a9-1d2e-47a4-bb54-3a29af97e70a"
   },
   "outputs": [
    {
     "data": {
      "text/plain": [
       "array([[1., 1., 1., 1., 1., 1., 1., 1., 1.],\n",
       "       [1., 1., 1., 1., 1., 1., 1., 1., 1.],\n",
       "       [1., 1., 1., 1., 1., 1., 1., 1., 1.]])"
      ]
     },
     "execution_count": 41,
     "metadata": {},
     "output_type": "execute_result"
    }
   ],
   "source": [
    "arr_ones = np.ones((3,9))\n",
    "arr_ones"
   ]
  },
  {
   "cell_type": "code",
   "execution_count": null,
   "id": "ec8c2f3b",
   "metadata": {
    "id": "ec8c2f3b",
    "outputId": "8c797bac-79d5-403f-fb22-5b9bd077367b"
   },
   "outputs": [
    {
     "data": {
      "text/plain": [
       "array([[0., 0., 0., 0., 0.],\n",
       "       [0., 0., 0., 0., 0.],\n",
       "       [0., 0., 0., 0., 0.],\n",
       "       [0., 0., 0., 0., 0.],\n",
       "       [0., 0., 0., 0., 0.]])"
      ]
     },
     "execution_count": 43,
     "metadata": {},
     "output_type": "execute_result"
    }
   ],
   "source": [
    "arr_zero = np.zeros((5,5))\n",
    "arr_zero"
   ]
  },
  {
   "cell_type": "code",
   "execution_count": null,
   "id": "4634d70b",
   "metadata": {
    "id": "4634d70b",
    "outputId": "2678e79c-e183-4b1e-a273-aa317aa6e4a3"
   },
   "outputs": [
    {
     "data": {
      "text/plain": [
       "array([[40, 40, 40, 40],\n",
       "       [40, 40, 40, 40],\n",
       "       [40, 40, 40, 40],\n",
       "       [40, 40, 40, 40]])"
      ]
     },
     "execution_count": 45,
     "metadata": {},
     "output_type": "execute_result"
    }
   ],
   "source": [
    "arr_full = np.full((4,4),40)\n",
    "arr_full"
   ]
  },
  {
   "cell_type": "code",
   "execution_count": null,
   "id": "b2e756f3",
   "metadata": {
    "id": "b2e756f3",
    "outputId": "a092bf2a-e7a9-4a40-feea-1855229f36cc"
   },
   "outputs": [
    {
     "data": {
      "text/plain": [
       "array([[1., 0., 0., 0., 0.],\n",
       "       [0., 1., 0., 0., 0.],\n",
       "       [0., 0., 1., 0., 0.],\n",
       "       [0., 0., 0., 1., 0.],\n",
       "       [0., 0., 0., 0., 1.]])"
      ]
     },
     "execution_count": 53,
     "metadata": {},
     "output_type": "execute_result"
    }
   ],
   "source": [
    "arr_eye = np.eye(5)\n",
    "arr_eye"
   ]
  },
  {
   "cell_type": "code",
   "execution_count": null,
   "id": "940cca80",
   "metadata": {
    "id": "940cca80"
   },
   "outputs": [],
   "source": [
    "#create array using diag function\n",
    "arr_diag = np.diag([10,20,13,42]) #constructs a diagonal array.\n",
    "arr_diag"
   ]
  },
  {
   "cell_type": "code",
   "execution_count": null,
   "id": "75263731",
   "metadata": {
    "id": "75263731",
    "outputId": "fef1707a-09a8-487a-bdec-aa9d6ef5b1f4"
   },
   "outputs": [
    {
     "data": {
      "text/plain": [
       "array([[11,  0,  0,  0],\n",
       "       [ 0, 23,  0,  0],\n",
       "       [ 0,  0, 45,  0],\n",
       "       [ 0,  0,  0, 67]])"
      ]
     },
     "execution_count": 54,
     "metadata": {},
     "output_type": "execute_result"
    }
   ],
   "source": [
    "arr_diag = np.diag([11,23,45,67])\n",
    "arr_diag"
   ]
  },
  {
   "cell_type": "code",
   "execution_count": null,
   "id": "516f8e1e",
   "metadata": {
    "id": "516f8e1e"
   },
   "outputs": [],
   "source": [
    "# Extract diagonal values\n",
    "np.diag(arr_diag)"
   ]
  },
  {
   "cell_type": "code",
   "execution_count": null,
   "id": "dd76bcab",
   "metadata": {
    "id": "dd76bcab"
   },
   "outputs": [],
   "source": [
    "#create array using random\n",
    "arr_random = np.random.random(5) \n",
    "arr_random"
   ]
  },
  {
   "cell_type": "code",
   "execution_count": null,
   "id": "e5c9ee21",
   "metadata": {
    "id": "e5c9ee21",
    "outputId": "d58b5db8-ba99-4d26-e866-af5bdaa2b22b"
   },
   "outputs": [
    {
     "data": {
      "text/plain": [
       "array([0.9988223 , 0.28528042, 0.34190392, 0.40757941, 0.27074575])"
      ]
     },
     "execution_count": 55,
     "metadata": {},
     "output_type": "execute_result"
    }
   ],
   "source": [
    "arr_random = np.random.random(5)\n",
    "arr_random"
   ]
  },
  {
   "cell_type": "code",
   "execution_count": null,
   "id": "eaf64013",
   "metadata": {
    "id": "eaf64013"
   },
   "outputs": [],
   "source": [
    "adc = np.random.rand(4,3) \n",
    "adc"
   ]
  },
  {
   "cell_type": "code",
   "execution_count": null,
   "id": "12920f51",
   "metadata": {
    "id": "12920f51",
    "outputId": "07ea414c-91bc-4513-9c20-1baa5fe23068"
   },
   "outputs": [
    {
     "data": {
      "text/plain": [
       "array([[0.61540814, 0.9833897 , 0.33432104, 0.25502344],\n",
       "       [0.26633309, 0.44167434, 0.70076378, 0.43454167],\n",
       "       [0.22180147, 0.68893376, 0.00358667, 0.80085822],\n",
       "       [0.33986088, 0.34380181, 0.95622309, 0.49317069],\n",
       "       [0.50579961, 0.42249043, 0.54174885, 0.97053626]])"
      ]
     },
     "execution_count": 57,
     "metadata": {},
     "output_type": "execute_result"
    }
   ],
   "source": [
    "arr_random2 = np.random.rand(5,4)\n",
    "arr_random2"
   ]
  },
  {
   "cell_type": "markdown",
   "id": "f5837010",
   "metadata": {
    "id": "f5837010"
   },
   "source": [
    "## 2. Basic DataTypes"
   ]
  },
  {
   "cell_type": "code",
   "execution_count": null,
   "id": "244a563e",
   "metadata": {
    "id": "244a563e",
    "outputId": "f07adbc4-391f-44fc-c0a4-2db768d977a8"
   },
   "outputs": [
    {
     "data": {
      "text/plain": [
       "array([0., 1., 2., 3., 4., 5., 6., 7., 8., 9.])"
      ]
     },
     "execution_count": 60,
     "metadata": {},
     "output_type": "execute_result"
    }
   ],
   "source": [
    "a_int = np.arange(10, dtype='float')\n",
    "a_int"
   ]
  },
  {
   "cell_type": "code",
   "execution_count": null,
   "id": "c6493860",
   "metadata": {
    "id": "c6493860"
   },
   "outputs": [],
   "source": [
    "#You can explicitly specify which data-type you want:\n",
    "\n",
    "a_float = np.arange(15, dtype='float')\n",
    "a_float"
   ]
  },
  {
   "cell_type": "code",
   "execution_count": null,
   "id": "3b0e7919",
   "metadata": {
    "id": "3b0e7919"
   },
   "outputs": [],
   "source": [
    "#The default data type is float for zeros and ones function\n",
    "\n",
    "a = np.ones((3, 3), dtype='int')\n",
    "\n",
    "print(a)\n",
    "a.dtype"
   ]
  },
  {
   "cell_type": "code",
   "execution_count": null,
   "id": "8ca21e72",
   "metadata": {
    "id": "8ca21e72",
    "outputId": "fcde39ab-b826-4131-fa1f-fd1464ed35b5"
   },
   "outputs": [
    {
     "data": {
      "text/plain": [
       "array([[0, 0, 0, 0, 0],\n",
       "       [0, 0, 0, 0, 0],\n",
       "       [0, 0, 0, 0, 0],\n",
       "       [0, 0, 0, 0, 0],\n",
       "       [0, 0, 0, 0, 0]])"
      ]
     },
     "execution_count": 62,
     "metadata": {},
     "output_type": "execute_result"
    }
   ],
   "source": [
    "np_zeros = np.zeros((5,5), dtype='int')\n",
    "np_zeros"
   ]
  },
  {
   "cell_type": "markdown",
   "id": "1db1a146",
   "metadata": {
    "id": "1db1a146"
   },
   "source": [
    "**<font color='blue'>Some Other Datatypes in Numpy Arrays</font>**"
   ]
  },
  {
   "cell_type": "code",
   "execution_count": null,
   "id": "f6d7e434",
   "metadata": {
    "id": "f6d7e434",
    "outputId": "f061d7ca-066c-4f78-a7f6-f578e0122466"
   },
   "outputs": [
    {
     "name": "stdout",
     "output_type": "stream",
     "text": [
      "complex128\n"
     ]
    }
   ],
   "source": [
    "d = np.array([1+2j, 2+4j])   #Complex datatype\n",
    "\n",
    "print(d.dtype)"
   ]
  },
  {
   "cell_type": "code",
   "execution_count": null,
   "id": "f590c696",
   "metadata": {
    "id": "f590c696",
    "outputId": "89f5dfef-8aea-471d-d5a9-86a4faa0abe8"
   },
   "outputs": [
    {
     "data": {
      "text/plain": [
       "dtype('bool')"
      ]
     },
     "execution_count": 64,
     "metadata": {},
     "output_type": "execute_result"
    }
   ],
   "source": [
    "b = np.array([True, False, True, False])  #Boolean datatype\n",
    "\n",
    "b.dtype"
   ]
  },
  {
   "cell_type": "code",
   "execution_count": null,
   "id": "0891c4b1",
   "metadata": {
    "id": "0891c4b1",
    "outputId": "d10ef26c-614f-413a-e947-7f6c0b2d78c4"
   },
   "outputs": [
    {
     "data": {
      "text/plain": [
       "dtype('<U6')"
      ]
     },
     "execution_count": 65,
     "metadata": {},
     "output_type": "execute_result"
    }
   ],
   "source": [
    "s = np.array(['Ram', 'Robert', 'Rahim'])\n",
    "\n",
    "s.dtype"
   ]
  },
  {
   "cell_type": "markdown",
   "id": "5ec3e8e1",
   "metadata": {
    "id": "5ec3e8e1"
   },
   "source": [
    "## <font color='maroon'>3. Indexing and Slicing</font>"
   ]
  },
  {
   "cell_type": "markdown",
   "id": "06ad11d6",
   "metadata": {
    "id": "06ad11d6"
   },
   "source": [
    "### <font color='blue'>3.1 Indexing</font>"
   ]
  },
  {
   "cell_type": "markdown",
   "id": "eb3223c5",
   "metadata": {
    "id": "eb3223c5"
   },
   "source": [
    "The items of an array can be accessed and assigned to the same way as other **Python sequences (e.g. lists)**"
   ]
  },
  {
   "cell_type": "markdown",
   "id": "47d2fdb2",
   "metadata": {
    "id": "47d2fdb2"
   },
   "source": [
    "<div>\n",
    "<img src=\"attachment:Numpy1.png\" width=\"450\"/>\n",
    "</div>"
   ]
  },
  {
   "cell_type": "code",
   "execution_count": null,
   "id": "74725742",
   "metadata": {
    "id": "74725742"
   },
   "outputs": [],
   "source": [
    "arr = np.arange(10,20)\n",
    "arr"
   ]
  },
  {
   "cell_type": "code",
   "execution_count": null,
   "id": "71ad69f5",
   "metadata": {
    "id": "71ad69f5",
    "outputId": "bd8f1e0a-b47f-4988-f507-606f3b9169fb"
   },
   "outputs": [
    {
     "data": {
      "text/plain": [
       "array([11, 12, 13, 14, 15, 16, 17, 18, 19, 20, 21, 22, 23, 24, 25, 26, 27,\n",
       "       28, 29, 30])"
      ]
     },
     "execution_count": 66,
     "metadata": {},
     "output_type": "execute_result"
    }
   ],
   "source": [
    "arr5 = np.arange(11,31)\n",
    "arr5"
   ]
  },
  {
   "cell_type": "code",
   "execution_count": null,
   "id": "b68018ad",
   "metadata": {
    "id": "b68018ad",
    "outputId": "c768868c-099b-4ddc-84a5-8f39dbb37d09"
   },
   "outputs": [
    {
     "data": {
      "text/plain": [
       "16"
      ]
     },
     "execution_count": 67,
     "metadata": {},
     "output_type": "execute_result"
    }
   ],
   "source": [
    "arr5[5]"
   ]
  },
  {
   "cell_type": "code",
   "execution_count": null,
   "id": "d04d5ed8",
   "metadata": {
    "id": "d04d5ed8"
   },
   "outputs": [],
   "source": [
    "# Print any element from the array by accessing it\n",
    "print(arr[6])"
   ]
  },
  {
   "cell_type": "code",
   "execution_count": null,
   "id": "97add22e",
   "metadata": {
    "id": "97add22e"
   },
   "outputs": [],
   "source": [
    "# For multidimensional arrays, indexes are tuples of integers:\n",
    "arr_diag = np.diag([1, 2, 3])\n",
    "arr_diag"
   ]
  },
  {
   "cell_type": "code",
   "execution_count": null,
   "id": "30aabf9f",
   "metadata": {
    "id": "30aabf9f",
    "outputId": "c10eaa3a-a578-4252-944d-10f14fb49f70"
   },
   "outputs": [
    {
     "data": {
      "text/plain": [
       "array([[10,  0,  0],\n",
       "       [ 0, 20,  0],\n",
       "       [ 0,  0, 30]])"
      ]
     },
     "execution_count": 68,
     "metadata": {},
     "output_type": "execute_result"
    }
   ],
   "source": [
    "arr_diag = np.diag([10,20,30])\n",
    "arr_diag"
   ]
  },
  {
   "cell_type": "code",
   "execution_count": null,
   "id": "2a12e6dc",
   "metadata": {
    "id": "2a12e6dc"
   },
   "outputs": [],
   "source": [
    "arr_diag[1,1] = 50"
   ]
  },
  {
   "cell_type": "code",
   "execution_count": null,
   "id": "25d77cfd",
   "metadata": {
    "id": "25d77cfd",
    "outputId": "c2907721-c638-4b0b-cd88-7e7bc423e511"
   },
   "outputs": [
    {
     "data": {
      "text/plain": [
       "array([[10,  0,  0],\n",
       "       [ 0, 50,  0],\n",
       "       [ 0,  0, 30]])"
      ]
     },
     "execution_count": 71,
     "metadata": {},
     "output_type": "execute_result"
    }
   ],
   "source": [
    "arr_diag"
   ]
  },
  {
   "cell_type": "code",
   "execution_count": null,
   "id": "a1156a5d",
   "metadata": {
    "id": "a1156a5d"
   },
   "outputs": [],
   "source": [
    "# Print the value at 2,2\n",
    "print(arr_diag[2, 2])"
   ]
  },
  {
   "cell_type": "code",
   "execution_count": null,
   "id": "182e69f3",
   "metadata": {
    "id": "182e69f3"
   },
   "outputs": [],
   "source": [
    "arr_diag[2, 1] = 33 #assigning value\n",
    "arr_diag"
   ]
  },
  {
   "cell_type": "markdown",
   "id": "fcc59281",
   "metadata": {
    "id": "fcc59281"
   },
   "source": [
    "### <font color='blue'>3.2 Slicing</font>"
   ]
  },
  {
   "cell_type": "code",
   "execution_count": null,
   "id": "0643a0b1",
   "metadata": {
    "id": "0643a0b1"
   },
   "outputs": [],
   "source": [
    "arr = np.arange(10)\n",
    "arr"
   ]
  },
  {
   "cell_type": "code",
   "execution_count": null,
   "id": "f0a33755",
   "metadata": {
    "id": "f0a33755",
    "outputId": "22e9daa7-fb43-42a9-a386-84e9a1669bec"
   },
   "outputs": [
    {
     "data": {
      "text/plain": [
       "array([11, 12, 13, 14, 15, 16, 17, 18, 19, 20, 21, 22, 23, 24, 25, 26, 27,\n",
       "       28, 29, 30])"
      ]
     },
     "execution_count": 72,
     "metadata": {},
     "output_type": "execute_result"
    }
   ],
   "source": [
    "arr6 = np.arange(11,31)\n",
    "arr6"
   ]
  },
  {
   "cell_type": "code",
   "execution_count": null,
   "id": "0b850fd5",
   "metadata": {
    "id": "0b850fd5",
    "outputId": "4740f9e0-1729-424a-d6cf-cdb39f9b05bc"
   },
   "outputs": [
    {
     "data": {
      "text/plain": [
       "16"
      ]
     },
     "execution_count": 79,
     "metadata": {},
     "output_type": "execute_result"
    }
   ],
   "source": [
    "arr6[5]"
   ]
  },
  {
   "cell_type": "code",
   "execution_count": null,
   "id": "bf2219df",
   "metadata": {
    "id": "bf2219df",
    "outputId": "b9011b5f-393e-4f9c-8540-bde3ce7105c4"
   },
   "outputs": [
    {
     "data": {
      "text/plain": [
       "array([16, 18, 20, 22, 24, 26, 28])"
      ]
     },
     "execution_count": 78,
     "metadata": {},
     "output_type": "execute_result"
    }
   ],
   "source": [
    "arr6[5:18:2]  #[start:end:step]"
   ]
  },
  {
   "cell_type": "code",
   "execution_count": null,
   "id": "e018e53a",
   "metadata": {
    "id": "e018e53a"
   },
   "outputs": [],
   "source": [
    "arr[3:10:3] # [startindex: endindex(exclusive) : step]"
   ]
  },
  {
   "cell_type": "code",
   "execution_count": null,
   "id": "5a5e9f82",
   "metadata": {
    "id": "5a5e9f82"
   },
   "outputs": [],
   "source": [
    "#we can also combine assignment and slicing:\n",
    "\n",
    "arr_sl = np.arange(10)\n",
    "arr_sl"
   ]
  },
  {
   "cell_type": "code",
   "execution_count": null,
   "id": "0287e2ab",
   "metadata": {
    "id": "0287e2ab",
    "outputId": "38024f77-f13e-4605-c6d4-971918b1d9ae"
   },
   "outputs": [
    {
     "data": {
      "text/plain": [
       "array([11, 12, 13, 14, 15, 16, 17, 18, 19, 20, 21, 22, 23, 24, 25, 26, 27,\n",
       "       28, 29, 30])"
      ]
     },
     "execution_count": 80,
     "metadata": {},
     "output_type": "execute_result"
    }
   ],
   "source": [
    "arr6"
   ]
  },
  {
   "cell_type": "code",
   "execution_count": null,
   "id": "9170b2ee",
   "metadata": {
    "id": "9170b2ee"
   },
   "outputs": [],
   "source": [
    "arr6[0:6] = 1\n",
    "arr6[6:] = 0"
   ]
  },
  {
   "cell_type": "code",
   "execution_count": null,
   "id": "96226100",
   "metadata": {
    "id": "96226100",
    "outputId": "01201ff7-aae6-4d1f-9f8b-c5e290ca72fe"
   },
   "outputs": [
    {
     "data": {
      "text/plain": [
       "array([1, 1, 1, 1, 1, 1, 0, 0, 0, 0, 0, 0, 0, 0, 0, 0, 0, 0, 0, 0])"
      ]
     },
     "execution_count": 82,
     "metadata": {},
     "output_type": "execute_result"
    }
   ],
   "source": [
    "arr6"
   ]
  },
  {
   "cell_type": "code",
   "execution_count": null,
   "id": "6547d79f",
   "metadata": {
    "id": "6547d79f"
   },
   "outputs": [],
   "source": [
    "arr_sl[:7] = 15\n",
    "arr_sl[7:] = 16\n",
    "arr_sl"
   ]
  },
  {
   "cell_type": "code",
   "execution_count": null,
   "id": "259a87fb",
   "metadata": {
    "id": "259a87fb",
    "outputId": "ffdc358a-f899-4ab4-e366-d9cb03d3341e"
   },
   "outputs": [
    {
     "data": {
      "text/plain": [
       "<function ndarray.transpose>"
      ]
     },
     "execution_count": 139,
     "metadata": {},
     "output_type": "execute_result"
    }
   ],
   "source": [
    "arr2 = np.arange(1,10,1)\n",
    "arr2"
   ]
  },
  {
   "cell_type": "code",
   "execution_count": null,
   "id": "3ba28e28",
   "metadata": {
    "id": "3ba28e28",
    "outputId": "2b557b06-7454-4f63-9157-b9886da5cdef"
   },
   "outputs": [
    {
     "data": {
      "text/plain": [
       "array([[ 1,  4,  7],\n",
       "       [10, 13, 16],\n",
       "       [19, 22, 25]])"
      ]
     },
     "execution_count": 137,
     "metadata": {},
     "output_type": "execute_result"
    }
   ],
   "source": [
    "arr7 = np.arange(1,26,3).reshape(3,3)\n",
    "arr7"
   ]
  },
  {
   "cell_type": "code",
   "execution_count": null,
   "id": "46aa196e",
   "metadata": {
    "id": "46aa196e",
    "outputId": "6018a8a7-6283-4407-8eb7-78323e682b64"
   },
   "outputs": [
    {
     "data": {
      "text/plain": [
       "array([[2, 3],\n",
       "       [5, 6]])"
      ]
     },
     "execution_count": 107,
     "metadata": {},
     "output_type": "execute_result"
    }
   ],
   "source": [
    "arr7[0:2,1:]"
   ]
  },
  {
   "cell_type": "code",
   "execution_count": null,
   "id": "fc449476",
   "metadata": {
    "id": "fc449476"
   },
   "outputs": [],
   "source": [
    "arr2[1:, 1:] = 12\n",
    "arr2"
   ]
  },
  {
   "cell_type": "code",
   "execution_count": null,
   "id": "5b13a4c0",
   "metadata": {
    "id": "5b13a4c0"
   },
   "outputs": [],
   "source": [
    "arr2[1:, 1:]"
   ]
  },
  {
   "cell_type": "markdown",
   "id": "cd0ebaf9",
   "metadata": {
    "id": "cd0ebaf9"
   },
   "source": [
    "## <font color='maroon'>4. Numpy Numerical Operations</font>"
   ]
  },
  {
   "cell_type": "markdown",
   "id": "d978f302",
   "metadata": {
    "id": "d978f302"
   },
   "source": [
    "### <font color='blue'>Basic Operations</font>"
   ]
  },
  {
   "cell_type": "code",
   "execution_count": null,
   "id": "badac50b",
   "metadata": {
    "id": "badac50b"
   },
   "outputs": [],
   "source": [
    "scalar = np.array([1, 2, 3, 4])\n",
    "scalar + 12.5"
   ]
  },
  {
   "cell_type": "code",
   "execution_count": null,
   "id": "499c0bcf",
   "metadata": {
    "id": "499c0bcf",
    "outputId": "6263ed71-7890-4729-8db6-d77e0ac98aba"
   },
   "outputs": [
    {
     "data": {
      "text/plain": [
       "array([20, 40, 60, 80])"
      ]
     },
     "execution_count": 112,
     "metadata": {},
     "output_type": "execute_result"
    }
   ],
   "source": [
    "arr8 = np.array([10,20,30,40])\n",
    "arr8 * 2 "
   ]
  },
  {
   "cell_type": "code",
   "execution_count": null,
   "id": "684efd2a",
   "metadata": {
    "id": "684efd2a",
    "outputId": "2471387a-84ec-4a26-fd3b-29e29729808f"
   },
   "outputs": [
    {
     "data": {
      "text/plain": [
       "array([  10000,  160000,  810000, 2560000], dtype=int32)"
      ]
     },
     "execution_count": 114,
     "metadata": {},
     "output_type": "execute_result"
    }
   ],
   "source": [
    "arr8 ** 4"
   ]
  },
  {
   "cell_type": "markdown",
   "id": "c8d996f4",
   "metadata": {
    "id": "c8d996f4"
   },
   "source": [
    "All Arithmetic Operations happen Element-wise"
   ]
  },
  {
   "cell_type": "code",
   "execution_count": null,
   "id": "fe289586",
   "metadata": {
    "id": "fe289586"
   },
   "outputs": [],
   "source": [
    "b = np.ones(4) + 2\n",
    "b"
   ]
  },
  {
   "cell_type": "code",
   "execution_count": null,
   "id": "2d335a86",
   "metadata": {
    "id": "2d335a86",
    "outputId": "2e9ab36a-e6a5-4c9c-9ffe-b58d4f23ede6"
   },
   "outputs": [
    {
     "data": {
      "text/plain": [
       "array([2, 3, 4, 5])"
      ]
     },
     "execution_count": 117,
     "metadata": {},
     "output_type": "execute_result"
    }
   ],
   "source": [
    "arr9 = np.array([2,3,4,5])\n",
    "arr9"
   ]
  },
  {
   "cell_type": "code",
   "execution_count": null,
   "id": "e2244d7d",
   "metadata": {
    "id": "e2244d7d",
    "outputId": "ab502efb-88d7-47b2-87ba-3be6133a650b"
   },
   "outputs": [
    {
     "data": {
      "text/plain": [
       "array([10, 20, 30, 40])"
      ]
     },
     "execution_count": 118,
     "metadata": {},
     "output_type": "execute_result"
    }
   ],
   "source": [
    "arr8"
   ]
  },
  {
   "cell_type": "code",
   "execution_count": null,
   "id": "2d18953e",
   "metadata": {
    "id": "2d18953e",
    "outputId": "35f54ad8-aad3-44e0-a7f4-24529530be3a"
   },
   "outputs": [
    {
     "data": {
      "text/plain": [
       "array([ 20,  60, 120, 200])"
      ]
     },
     "execution_count": 119,
     "metadata": {},
     "output_type": "execute_result"
    }
   ],
   "source": [
    "arr8 * arr9"
   ]
  },
  {
   "cell_type": "code",
   "execution_count": null,
   "id": "e1769065",
   "metadata": {
    "id": "e1769065"
   },
   "outputs": [],
   "source": [
    "arr10 = np.arange(1,10).reshape(3,3)\n",
    "arr11 = np.arange(10,19).reshape(3,3)"
   ]
  },
  {
   "cell_type": "code",
   "execution_count": null,
   "id": "03d111f4",
   "metadata": {
    "id": "03d111f4",
    "outputId": "5bbf1a55-2427-4416-b7b4-3846984e757f"
   },
   "outputs": [
    {
     "data": {
      "text/plain": [
       "array([[1, 2, 3],\n",
       "       [4, 5, 6],\n",
       "       [7, 8, 9]])"
      ]
     },
     "execution_count": 121,
     "metadata": {},
     "output_type": "execute_result"
    }
   ],
   "source": [
    "arr10"
   ]
  },
  {
   "cell_type": "code",
   "execution_count": null,
   "id": "188faa0c",
   "metadata": {
    "id": "188faa0c",
    "outputId": "772f17b7-6f46-41a4-e55c-9613d74d0ff0"
   },
   "outputs": [
    {
     "data": {
      "text/plain": [
       "array([[10, 11, 12],\n",
       "       [13, 14, 15],\n",
       "       [16, 17, 18]])"
      ]
     },
     "execution_count": 122,
     "metadata": {},
     "output_type": "execute_result"
    }
   ],
   "source": [
    "arr11"
   ]
  },
  {
   "cell_type": "code",
   "execution_count": null,
   "id": "151d7da3",
   "metadata": {
    "id": "151d7da3",
    "outputId": "37cab308-9f46-4261-bdcf-1838c7043505"
   },
   "outputs": [
    {
     "data": {
      "text/plain": [
       "array([[ 10,  22,  36],\n",
       "       [ 52,  70,  90],\n",
       "       [112, 136, 162]])"
      ]
     },
     "execution_count": 123,
     "metadata": {},
     "output_type": "execute_result"
    }
   ],
   "source": [
    "arr10 * arr11"
   ]
  },
  {
   "cell_type": "code",
   "execution_count": null,
   "id": "ff5d4240",
   "metadata": {
    "id": "ff5d4240",
    "outputId": "a2785194-3d5e-420e-f596-96ceb57729e8"
   },
   "outputs": [
    {
     "data": {
      "text/plain": [
       "array([[ 84,  90,  96],\n",
       "       [201, 216, 231],\n",
       "       [318, 342, 366]])"
      ]
     },
     "execution_count": 124,
     "metadata": {},
     "output_type": "execute_result"
    }
   ],
   "source": [
    "arr10.dot(arr11)"
   ]
  },
  {
   "cell_type": "code",
   "execution_count": null,
   "id": "e75eca0e",
   "metadata": {
    "id": "e75eca0e"
   },
   "outputs": [],
   "source": [
    "# Matrix Multiplication\n",
    "arr1 = np.arange(1,10,1).reshape(3,3)\n",
    "arr2 = np.arange(10,19,1).reshape(3,3)"
   ]
  },
  {
   "cell_type": "code",
   "execution_count": null,
   "id": "c158033a",
   "metadata": {
    "id": "c158033a"
   },
   "outputs": [],
   "source": [
    "arr1"
   ]
  },
  {
   "cell_type": "code",
   "execution_count": null,
   "id": "812ffe38",
   "metadata": {
    "id": "812ffe38"
   },
   "outputs": [],
   "source": [
    "arr2"
   ]
  },
  {
   "cell_type": "code",
   "execution_count": null,
   "id": "6e7748f0",
   "metadata": {
    "id": "6e7748f0"
   },
   "outputs": [],
   "source": [
    "print(arr1 * arr2) # Multiply the elements of both matrices"
   ]
  },
  {
   "cell_type": "code",
   "execution_count": null,
   "id": "7a45e1b8",
   "metadata": {
    "id": "7a45e1b8"
   },
   "outputs": [],
   "source": [
    "arr1.dot(arr2) # Matrix multiplication "
   ]
  },
  {
   "cell_type": "markdown",
   "id": "1fcdab75",
   "metadata": {
    "id": "1fcdab75"
   },
   "source": [
    "### <font color='blue'>Comparisons</font>"
   ]
  },
  {
   "cell_type": "code",
   "execution_count": null,
   "id": "8d60e7bd",
   "metadata": {
    "id": "8d60e7bd",
    "outputId": "67e30f02-7538-4488-d84f-d78003137d54"
   },
   "outputs": [
    {
     "data": {
      "text/plain": [
       "array([False,  True, False,  True])"
      ]
     },
     "execution_count": 125,
     "metadata": {},
     "output_type": "execute_result"
    }
   ],
   "source": [
    "# Element-wise comparisions\n",
    "a = np.array([1, 2, 3, 4])\n",
    "b = np.array([5, 2, 2, 4])\n",
    "c = np.array([1, 2, 3, 4])\n",
    "\n",
    "np.equal(a,b)"
   ]
  },
  {
   "cell_type": "code",
   "execution_count": null,
   "id": "721089f0",
   "metadata": {
    "id": "721089f0"
   },
   "outputs": [],
   "source": [
    "np.equal(a1,a2)"
   ]
  },
  {
   "cell_type": "code",
   "execution_count": null,
   "id": "27e6dca0",
   "metadata": {
    "id": "27e6dca0",
    "outputId": "37e69fdb-d5fc-4709-adc3-9a442a4e7806"
   },
   "outputs": [
    {
     "data": {
      "text/plain": [
       "False"
      ]
     },
     "execution_count": 126,
     "metadata": {},
     "output_type": "execute_result"
    }
   ],
   "source": [
    "# Array-wise comparisions\n",
    "a = np.array([1, 2, 3, 4])\n",
    "b = np.array([5, 2, 2, 4])\n",
    "c = np.array([1, 2, 3, 5])\n",
    "\n",
    "np.array_equal(a,b)"
   ]
  },
  {
   "cell_type": "code",
   "execution_count": null,
   "id": "22503921",
   "metadata": {
    "id": "22503921"
   },
   "outputs": [],
   "source": [
    "np.array_equal(a, c)"
   ]
  },
  {
   "cell_type": "code",
   "execution_count": null,
   "id": "bdb71ee0",
   "metadata": {
    "id": "bdb71ee0"
   },
   "outputs": [],
   "source": [
    "np.array_equal(a1,a2)"
   ]
  },
  {
   "cell_type": "markdown",
   "id": "eda6293a",
   "metadata": {
    "id": "eda6293a"
   },
   "source": [
    "#### Array Mathematics"
   ]
  },
  {
   "cell_type": "code",
   "execution_count": null,
   "id": "11c53555",
   "metadata": {
    "id": "11c53555"
   },
   "outputs": [],
   "source": [
    "import numpy as np\n",
    "a = np.array([1,2,3,4])\n",
    "b = np.array([5,6,7,8])"
   ]
  },
  {
   "cell_type": "code",
   "execution_count": null,
   "id": "dda6ad2d",
   "metadata": {
    "id": "dda6ad2d"
   },
   "outputs": [],
   "source": [
    "import numpy as np\n",
    "arr1 = np.array([10,20,30,40])\n",
    "arr2 = np.array([50,60,70,80])"
   ]
  },
  {
   "cell_type": "code",
   "execution_count": null,
   "id": "e4acd751",
   "metadata": {
    "id": "e4acd751",
    "outputId": "bf7da85a-97b6-47be-9d4c-da5e07ff5bfe"
   },
   "outputs": [
    {
     "data": {
      "text/plain": [
       "array([ 60,  80, 100, 120])"
      ]
     },
     "execution_count": 2,
     "metadata": {},
     "output_type": "execute_result"
    }
   ],
   "source": [
    "arr1 + arr2"
   ]
  },
  {
   "cell_type": "code",
   "execution_count": null,
   "id": "357f485f",
   "metadata": {
    "id": "357f485f",
    "outputId": "36b1e235-e77e-4702-f2c0-b268a31d66e8"
   },
   "outputs": [
    {
     "data": {
      "text/plain": [
       "array([ 60,  80, 100, 120])"
      ]
     },
     "execution_count": 3,
     "metadata": {},
     "output_type": "execute_result"
    }
   ],
   "source": [
    "np.add(arr1, arr2)"
   ]
  },
  {
   "cell_type": "code",
   "execution_count": null,
   "id": "03c93488",
   "metadata": {
    "id": "03c93488",
    "outputId": "152f26d0-262a-47f6-de3e-d9b1737eaae8"
   },
   "outputs": [
    {
     "data": {
      "text/plain": [
       "array([40, 40, 40, 40])"
      ]
     },
     "execution_count": 4,
     "metadata": {},
     "output_type": "execute_result"
    }
   ],
   "source": [
    "arr2 - arr1"
   ]
  },
  {
   "cell_type": "code",
   "execution_count": null,
   "id": "ae4c3816",
   "metadata": {
    "id": "ae4c3816",
    "outputId": "9b1c981e-769e-4cc4-b299-accc3c50d9ab"
   },
   "outputs": [
    {
     "data": {
      "text/plain": [
       "array([-40, -40, -40, -40])"
      ]
     },
     "execution_count": 6,
     "metadata": {},
     "output_type": "execute_result"
    }
   ],
   "source": [
    "np.subtract(arr1, arr2)"
   ]
  },
  {
   "cell_type": "code",
   "execution_count": null,
   "id": "a77721b8",
   "metadata": {
    "id": "a77721b8",
    "outputId": "8b2204fb-2f40-4bcd-c2d6-abf9de02b1a4"
   },
   "outputs": [
    {
     "data": {
      "text/plain": [
       "array([ 500, 1200, 2100, 3200])"
      ]
     },
     "execution_count": 7,
     "metadata": {},
     "output_type": "execute_result"
    }
   ],
   "source": [
    "arr1 * arr2"
   ]
  },
  {
   "cell_type": "code",
   "execution_count": null,
   "id": "ca2373a5",
   "metadata": {
    "id": "ca2373a5",
    "outputId": "dcde7127-b88e-40c4-9e88-ff8e8536f69e"
   },
   "outputs": [
    {
     "data": {
      "text/plain": [
       "array([ 500, 1200, 2100, 3200])"
      ]
     },
     "execution_count": 8,
     "metadata": {},
     "output_type": "execute_result"
    }
   ],
   "source": [
    "np.multiply(arr1, arr2)"
   ]
  },
  {
   "cell_type": "code",
   "execution_count": null,
   "id": "aad16b69",
   "metadata": {
    "id": "aad16b69",
    "outputId": "168338fa-7323-4c24-e744-decccc93b892"
   },
   "outputs": [
    {
     "data": {
      "text/plain": [
       "array([0.2       , 0.33333333, 0.42857143, 0.5       ])"
      ]
     },
     "execution_count": 9,
     "metadata": {},
     "output_type": "execute_result"
    }
   ],
   "source": [
    "np.divide(arr1,arr2)"
   ]
  },
  {
   "cell_type": "code",
   "execution_count": null,
   "id": "f7de956f",
   "metadata": {
    "id": "f7de956f",
    "outputId": "a2d6d1d2-4180-4416-ae07-2d304bf1fae8"
   },
   "outputs": [
    {
     "data": {
      "text/plain": [
       "array([1., 2., 3., 4.])"
      ]
     },
     "execution_count": 11,
     "metadata": {},
     "output_type": "execute_result"
    }
   ],
   "source": [
    "arr1 / 10"
   ]
  },
  {
   "cell_type": "code",
   "execution_count": null,
   "id": "dc1f1909",
   "metadata": {
    "id": "dc1f1909"
   },
   "outputs": [],
   "source": [
    "# numpy additions\n",
    "np.add(a, b)"
   ]
  },
  {
   "cell_type": "code",
   "execution_count": null,
   "id": "4db0b321",
   "metadata": {
    "id": "4db0b321"
   },
   "outputs": [],
   "source": [
    "a + b"
   ]
  },
  {
   "cell_type": "code",
   "execution_count": null,
   "id": "4dbc8a23",
   "metadata": {
    "id": "4dbc8a23"
   },
   "outputs": [],
   "source": [
    "# numpy subtraction\n",
    "np.subtract(a,b)"
   ]
  },
  {
   "cell_type": "code",
   "execution_count": null,
   "id": "fae67f52",
   "metadata": {
    "id": "fae67f52"
   },
   "outputs": [],
   "source": [
    "b-a"
   ]
  },
  {
   "cell_type": "code",
   "execution_count": null,
   "id": "95ce57e0",
   "metadata": {
    "id": "95ce57e0"
   },
   "outputs": [],
   "source": [
    "np.divide(a,b)"
   ]
  },
  {
   "cell_type": "code",
   "execution_count": null,
   "id": "36db35ce",
   "metadata": {
    "id": "36db35ce"
   },
   "outputs": [],
   "source": [
    "a / b"
   ]
  },
  {
   "cell_type": "code",
   "execution_count": null,
   "id": "aa772305",
   "metadata": {
    "id": "aa772305"
   },
   "outputs": [],
   "source": [
    "np.multiply(a,b)"
   ]
  },
  {
   "cell_type": "code",
   "execution_count": null,
   "id": "f4bb8854",
   "metadata": {
    "id": "f4bb8854"
   },
   "outputs": [],
   "source": [
    "a * b"
   ]
  },
  {
   "cell_type": "code",
   "execution_count": null,
   "id": "85f68ad5",
   "metadata": {
    "id": "85f68ad5"
   },
   "outputs": [],
   "source": [
    "np.exp(b) # e**8"
   ]
  },
  {
   "cell_type": "markdown",
   "id": "5214fbb0",
   "metadata": {
    "id": "5214fbb0"
   },
   "source": [
    "**Calculating Min, Mean, Median**"
   ]
  },
  {
   "cell_type": "code",
   "execution_count": null,
   "id": "2c575ca6",
   "metadata": {
    "id": "2c575ca6",
    "outputId": "b3d83a4d-2f09-4bb1-b07e-ea09e41af777"
   },
   "outputs": [
    {
     "data": {
      "text/plain": [
       "array([10, 20, 30, 40])"
      ]
     },
     "execution_count": 12,
     "metadata": {},
     "output_type": "execute_result"
    }
   ],
   "source": [
    "arr1"
   ]
  },
  {
   "cell_type": "code",
   "execution_count": null,
   "id": "d53e202e",
   "metadata": {
    "id": "d53e202e",
    "outputId": "f205960b-0210-419d-e2da-eee200934e6f"
   },
   "outputs": [
    {
     "data": {
      "text/plain": [
       "array([50, 60, 70, 80])"
      ]
     },
     "execution_count": 13,
     "metadata": {},
     "output_type": "execute_result"
    }
   ],
   "source": [
    "arr2"
   ]
  },
  {
   "cell_type": "code",
   "execution_count": null,
   "id": "dfbca263",
   "metadata": {
    "id": "dfbca263",
    "outputId": "d219440e-0cd8-4896-cf01-76395aed6866"
   },
   "outputs": [
    {
     "data": {
      "text/plain": [
       "25.0"
      ]
     },
     "execution_count": 14,
     "metadata": {},
     "output_type": "execute_result"
    }
   ],
   "source": [
    "np.mean(arr1)"
   ]
  },
  {
   "cell_type": "code",
   "execution_count": null,
   "id": "b0b3e17d",
   "metadata": {
    "id": "b0b3e17d",
    "outputId": "dd395799-cc93-49b7-a8f0-ca02afade68f"
   },
   "outputs": [
    {
     "data": {
      "text/plain": [
       "65.0"
      ]
     },
     "execution_count": 15,
     "metadata": {},
     "output_type": "execute_result"
    }
   ],
   "source": [
    "np.median(arr2)"
   ]
  },
  {
   "cell_type": "code",
   "execution_count": null,
   "id": "232e0f8e",
   "metadata": {
    "id": "232e0f8e",
    "outputId": "b7aac171-f775-4f14-92b2-97e4565b2222"
   },
   "outputs": [
    {
     "data": {
      "text/plain": [
       "10"
      ]
     },
     "execution_count": 16,
     "metadata": {},
     "output_type": "execute_result"
    }
   ],
   "source": [
    "np.min(arr1)"
   ]
  },
  {
   "cell_type": "code",
   "execution_count": null,
   "id": "7b5709ae",
   "metadata": {
    "id": "7b5709ae",
    "outputId": "67186e1b-be2e-4eb9-9a12-3f9eb6aa85cd"
   },
   "outputs": [
    {
     "data": {
      "text/plain": [
       "40"
      ]
     },
     "execution_count": 18,
     "metadata": {},
     "output_type": "execute_result"
    }
   ],
   "source": [
    "np.max(arr1)"
   ]
  },
  {
   "cell_type": "code",
   "execution_count": null,
   "id": "1ca42ee7",
   "metadata": {
    "id": "1ca42ee7"
   },
   "outputs": [],
   "source": [
    "a = np.array([1, 2, 3, 4])\n",
    "b = np.array([5, 2, 2, 4])\n",
    "c = np.array([1, 2, 3, 4])"
   ]
  },
  {
   "cell_type": "code",
   "execution_count": null,
   "id": "d6ab577f",
   "metadata": {
    "id": "d6ab577f"
   },
   "outputs": [],
   "source": [
    "np.mean(a)   # Also a.mean()"
   ]
  },
  {
   "cell_type": "code",
   "execution_count": null,
   "id": "d14b5484",
   "metadata": {
    "id": "d14b5484"
   },
   "outputs": [],
   "source": [
    "np.median(c)"
   ]
  },
  {
   "cell_type": "code",
   "execution_count": null,
   "id": "b2367f07",
   "metadata": {
    "id": "b2367f07"
   },
   "outputs": [],
   "source": [
    "np.min(b)   # Also b.min()"
   ]
  },
  {
   "cell_type": "code",
   "execution_count": null,
   "id": "9130e446",
   "metadata": {
    "id": "9130e446"
   },
   "outputs": [],
   "source": [
    "np.max(a)"
   ]
  },
  {
   "cell_type": "code",
   "execution_count": null,
   "id": "d79f88b6",
   "metadata": {
    "id": "d79f88b6"
   },
   "outputs": [],
   "source": [
    "a.max()"
   ]
  },
  {
   "cell_type": "code",
   "execution_count": null,
   "id": "24afface",
   "metadata": {
    "id": "24afface"
   },
   "outputs": [],
   "source": [
    "b.max()"
   ]
  },
  {
   "cell_type": "markdown",
   "id": "06fa2985",
   "metadata": {
    "id": "06fa2985"
   },
   "source": [
    "### <font color='maroon'>Array Manipulation</font>"
   ]
  },
  {
   "cell_type": "markdown",
   "id": "91da0c06",
   "metadata": {
    "id": "91da0c06"
   },
   "source": [
    "We have some ways to manipulate the arrays, these are - \n",
    "\n",
    "- numpy.concatenate(a,b)\n",
    "- numpy.vstack(a,b)\n",
    "- numpy.hstack(a,b)\n",
    "- numpy.column_stack()\n",
    "- numpy.hsplit()\n",
    "\n",
    "Let's see one by one how they work"
   ]
  },
  {
   "cell_type": "code",
   "execution_count": null,
   "id": "39760749",
   "metadata": {
    "id": "39760749",
    "outputId": "66094a51-afd8-4bf5-e3cb-e0551c26ed2f"
   },
   "outputs": [
    {
     "data": {
      "text/plain": [
       "array([10, 20, 30, 40])"
      ]
     },
     "execution_count": 19,
     "metadata": {},
     "output_type": "execute_result"
    }
   ],
   "source": [
    "arr1"
   ]
  },
  {
   "cell_type": "code",
   "execution_count": null,
   "id": "247b31fd",
   "metadata": {
    "id": "247b31fd",
    "outputId": "0df1e7a1-e75c-414d-a528-75deb876d9fe"
   },
   "outputs": [
    {
     "data": {
      "text/plain": [
       "array([50, 60, 70, 80])"
      ]
     },
     "execution_count": 20,
     "metadata": {},
     "output_type": "execute_result"
    }
   ],
   "source": [
    "arr2"
   ]
  },
  {
   "cell_type": "code",
   "execution_count": null,
   "id": "0be617dc",
   "metadata": {
    "id": "0be617dc"
   },
   "outputs": [],
   "source": [
    "arr3 = np.concatenate((arr1,arr2))"
   ]
  },
  {
   "cell_type": "code",
   "execution_count": null,
   "id": "fd69f30d",
   "metadata": {
    "id": "fd69f30d",
    "outputId": "e9822d10-171f-46ed-ac5f-15853683a4f5"
   },
   "outputs": [
    {
     "data": {
      "text/plain": [
       "array([10, 20, 30, 40, 50, 60, 70, 80])"
      ]
     },
     "execution_count": 29,
     "metadata": {},
     "output_type": "execute_result"
    }
   ],
   "source": [
    "arr3"
   ]
  },
  {
   "cell_type": "code",
   "execution_count": null,
   "id": "891137eb",
   "metadata": {
    "id": "891137eb",
    "outputId": "bef5cb87-48a8-4606-a344-4e83291bf074"
   },
   "outputs": [
    {
     "data": {
      "text/plain": [
       "45.0"
      ]
     },
     "execution_count": 28,
     "metadata": {},
     "output_type": "execute_result"
    }
   ],
   "source": [
    "np.mean(arr3)"
   ]
  },
  {
   "cell_type": "code",
   "execution_count": null,
   "id": "2aec6b7a",
   "metadata": {
    "id": "2aec6b7a",
    "outputId": "818bc4f3-700a-4a26-b9b6-e539f6b0f2fc"
   },
   "outputs": [
    {
     "data": {
      "text/plain": [
       "array([[10, 20, 30, 40],\n",
       "       [50, 60, 70, 80]])"
      ]
     },
     "execution_count": 26,
     "metadata": {},
     "output_type": "execute_result"
    }
   ],
   "source": [
    "np.vstack((arr1,arr2))"
   ]
  },
  {
   "cell_type": "code",
   "execution_count": null,
   "id": "7be6cf6c",
   "metadata": {
    "id": "7be6cf6c",
    "outputId": "43d7503b-45c0-42c1-9bfa-77ae0bd01bee"
   },
   "outputs": [
    {
     "data": {
      "text/plain": [
       "array([10, 20, 30, 40, 50, 60, 70, 80])"
      ]
     },
     "execution_count": 30,
     "metadata": {},
     "output_type": "execute_result"
    }
   ],
   "source": [
    "np.hstack((arr1, arr2))"
   ]
  },
  {
   "cell_type": "code",
   "execution_count": null,
   "id": "d849da9e",
   "metadata": {
    "id": "d849da9e"
   },
   "outputs": [],
   "source": [
    "arr4 = np.column_stack((arr1, arr2))"
   ]
  },
  {
   "cell_type": "code",
   "execution_count": null,
   "id": "8315402c",
   "metadata": {
    "id": "8315402c",
    "outputId": "fb8e73a5-ff64-4d3f-84be-21673bf46cfd"
   },
   "outputs": [
    {
     "data": {
      "text/plain": [
       "array([[10, 50],\n",
       "       [20, 60],\n",
       "       [30, 70],\n",
       "       [40, 80]])"
      ]
     },
     "execution_count": 34,
     "metadata": {},
     "output_type": "execute_result"
    }
   ],
   "source": [
    "arr4"
   ]
  },
  {
   "cell_type": "code",
   "execution_count": null,
   "id": "cbbf0a37",
   "metadata": {
    "id": "cbbf0a37",
    "outputId": "7fe4de9e-6629-4321-f3ed-8f8274dff0a3"
   },
   "outputs": [
    {
     "data": {
      "text/plain": [
       "2"
      ]
     },
     "execution_count": 33,
     "metadata": {},
     "output_type": "execute_result"
    }
   ],
   "source": [
    "arr4.ndim"
   ]
  },
  {
   "cell_type": "code",
   "execution_count": null,
   "id": "c473c1f6",
   "metadata": {
    "id": "c473c1f6",
    "outputId": "57c632f9-9239-431d-ed9d-0f0faa543fa2"
   },
   "outputs": [
    {
     "data": {
      "text/plain": [
       "(4, 2)"
      ]
     },
     "execution_count": 36,
     "metadata": {},
     "output_type": "execute_result"
    }
   ],
   "source": [
    "arr4.shape"
   ]
  },
  {
   "cell_type": "code",
   "execution_count": null,
   "id": "912869fb",
   "metadata": {
    "id": "912869fb",
    "outputId": "f1feae8a-691c-49ca-e460-982aec9233c5"
   },
   "outputs": [
    {
     "data": {
      "text/plain": [
       "array([10, 50, 20, 60, 30, 70, 40, 80])"
      ]
     },
     "execution_count": 37,
     "metadata": {},
     "output_type": "execute_result"
    }
   ],
   "source": [
    "arr4.flatten()"
   ]
  },
  {
   "cell_type": "code",
   "execution_count": null,
   "id": "299c7b6d",
   "metadata": {
    "id": "299c7b6d"
   },
   "outputs": [],
   "source": [
    "arr5 = np.arange(16).reshape(4,4)"
   ]
  },
  {
   "cell_type": "code",
   "execution_count": null,
   "id": "9b5e0f98",
   "metadata": {
    "id": "9b5e0f98",
    "outputId": "636999c2-3f3a-48b0-d11e-dee2e0bc992c"
   },
   "outputs": [
    {
     "data": {
      "text/plain": [
       "array([[ 0,  1,  2,  3],\n",
       "       [ 4,  5,  6,  7],\n",
       "       [ 8,  9, 10, 11],\n",
       "       [12, 13, 14, 15]])"
      ]
     },
     "execution_count": 39,
     "metadata": {},
     "output_type": "execute_result"
    }
   ],
   "source": [
    "arr5"
   ]
  },
  {
   "cell_type": "code",
   "execution_count": null,
   "id": "91597633",
   "metadata": {
    "id": "91597633",
    "outputId": "fbd7f6ff-1896-4139-de75-0fa17622edf8"
   },
   "outputs": [
    {
     "data": {
      "text/plain": [
       "[array([[ 0],\n",
       "        [ 4],\n",
       "        [ 8],\n",
       "        [12]]),\n",
       " array([[ 1],\n",
       "        [ 5],\n",
       "        [ 9],\n",
       "        [13]]),\n",
       " array([[ 2],\n",
       "        [ 6],\n",
       "        [10],\n",
       "        [14]]),\n",
       " array([[ 3],\n",
       "        [ 7],\n",
       "        [11],\n",
       "        [15]])]"
      ]
     },
     "execution_count": 42,
     "metadata": {},
     "output_type": "execute_result"
    }
   ],
   "source": [
    "np.hsplit(arr5,4)"
   ]
  },
  {
   "cell_type": "code",
   "execution_count": null,
   "id": "3a001b34",
   "metadata": {
    "id": "3a001b34"
   },
   "outputs": [],
   "source": [
    "x = np.arange(16).reshape(4, 4)\n",
    "print(x)\n",
    "np.hsplit(x,4)"
   ]
  },
  {
   "cell_type": "markdown",
   "id": "ef4bf906",
   "metadata": {
    "id": "ef4bf906"
   },
   "source": [
    "### <font color='maroon'>Array Shape Manipulation</font>"
   ]
  },
  {
   "cell_type": "markdown",
   "id": "5eeb5789",
   "metadata": {
    "id": "5eeb5789"
   },
   "source": [
    "**<font color='blue'>Reshaping</font>**\n",
    "\n",
    "Reshape method does not change the shape of original array but returns a new array of the desired shape"
   ]
  },
  {
   "cell_type": "code",
   "execution_count": null,
   "id": "761f8242",
   "metadata": {
    "id": "761f8242",
    "outputId": "29b426bc-f091-4a42-e93f-e8e45919645e"
   },
   "outputs": [
    {
     "data": {
      "text/plain": [
       "array([[1, 2],\n",
       "       [3, 4],\n",
       "       [5, 6]])"
      ]
     },
     "execution_count": 47,
     "metadata": {},
     "output_type": "execute_result"
    }
   ],
   "source": [
    "import numpy as np\n",
    "b = np.array([1, 2, 3, 4, 5, 6]).reshape(3,2)\n",
    "b"
   ]
  },
  {
   "cell_type": "code",
   "execution_count": null,
   "id": "e4d6cb08",
   "metadata": {
    "id": "e4d6cb08"
   },
   "outputs": [],
   "source": [
    "arr6 = np.arange(24).reshape(8,3)"
   ]
  },
  {
   "cell_type": "code",
   "execution_count": null,
   "id": "26a4a22a",
   "metadata": {
    "id": "26a4a22a",
    "outputId": "7f0cfbf2-9fa0-4841-98d1-a9e340800773"
   },
   "outputs": [
    {
     "data": {
      "text/plain": [
       "array([[ 0,  1,  2],\n",
       "       [ 3,  4,  5],\n",
       "       [ 6,  7,  8],\n",
       "       [ 9, 10, 11],\n",
       "       [12, 13, 14],\n",
       "       [15, 16, 17],\n",
       "       [18, 19, 20],\n",
       "       [21, 22, 23]])"
      ]
     },
     "execution_count": 46,
     "metadata": {},
     "output_type": "execute_result"
    }
   ],
   "source": [
    "arr6"
   ]
  },
  {
   "cell_type": "code",
   "execution_count": null,
   "id": "fac7ccab",
   "metadata": {
    "id": "fac7ccab"
   },
   "outputs": [],
   "source": [
    "b = b.reshape(2,3)\n",
    "b"
   ]
  },
  {
   "cell_type": "code",
   "execution_count": null,
   "id": "b88bad5d",
   "metadata": {
    "id": "b88bad5d"
   },
   "outputs": [],
   "source": [
    "at = np.arange(1,10).reshape(3,3)\n",
    "at"
   ]
  }
 ],
 "metadata": {
  "colab": {
   "name": "Numpy.ipynb",
   "provenance": []
  },
  "kernelspec": {
   "display_name": "Python 3 (ipykernel)",
   "language": "python",
   "name": "python3"
  },
  "language_info": {
   "codemirror_mode": {
    "name": "ipython",
    "version": 3
   },
   "file_extension": ".py",
   "mimetype": "text/x-python",
   "name": "python",
   "nbconvert_exporter": "python",
   "pygments_lexer": "ipython3",
   "version": "3.9.7"
  }
 },
 "nbformat": 4,
 "nbformat_minor": 5
}
